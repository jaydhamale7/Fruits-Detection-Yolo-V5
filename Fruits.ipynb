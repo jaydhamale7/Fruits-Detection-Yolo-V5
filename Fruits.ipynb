{
 "cells": [
  {
   "cell_type": "code",
   "execution_count": null,
   "metadata": {
    "id": "CoJ-fiVVpNnK"
   },
   "outputs": [],
   "source": [
    "from IPython.display import clear_output"
   ]
  },
  {
   "cell_type": "code",
   "execution_count": null,
   "metadata": {
    "id": "ROxziESvuk6u"
   },
   "outputs": [],
   "source": [
    "!unzip yolov5_format.zip \r\n",
    "clear_output()"
   ]
  },
  {
   "cell_type": "code",
   "execution_count": null,
   "metadata": {
    "colab": {
     "base_uri": "https://localhost:8080/"
    },
    "id": "4vSW_-2iCdWw",
    "outputId": "ee5b22ef-2e7b-4361-f464-5de084be4b57"
   },
   "outputs": [
    {
     "name": "stdout",
     "output_type": "stream",
     "text": [
      "Cloning into 'yolov5'...\n",
      "remote: Enumerating objects: 111, done.\u001b[K\n",
      "remote: Counting objects: 100% (111/111), done.\u001b[K\n",
      "remote: Compressing objects: 100% (78/78), done.\u001b[K\n",
      "remote: Total 3773 (delta 68), reused 69 (delta 33), pack-reused 3662\u001b[K\n",
      "Receiving objects: 100% (3773/3773), 7.14 MiB | 35.17 MiB/s, done.\n",
      "Resolving deltas: 100% (2522/2522), done.\n",
      "/content/yolov5\n",
      "Requirement already satisfied: Cython in /usr/local/lib/python3.6/dist-packages (from -r requirements.txt (line 4)) (0.29.21)\n",
      "Requirement already satisfied: matplotlib>=3.2.2 in /usr/local/lib/python3.6/dist-packages (from -r requirements.txt (line 5)) (3.2.2)\n",
      "Requirement already satisfied: numpy>=1.18.5 in /usr/local/lib/python3.6/dist-packages (from -r requirements.txt (line 6)) (1.19.4)\n",
      "Requirement already satisfied: opencv-python>=4.1.2 in /usr/local/lib/python3.6/dist-packages (from -r requirements.txt (line 7)) (4.1.2.30)\n",
      "Requirement already satisfied: Pillow in /usr/local/lib/python3.6/dist-packages (from -r requirements.txt (line 8)) (7.0.0)\n",
      "Collecting PyYAML>=5.3\n",
      "\u001b[?25l  Downloading https://files.pythonhosted.org/packages/64/c2/b80047c7ac2478f9501676c988a5411ed5572f35d1beff9cae07d321512c/PyYAML-5.3.1.tar.gz (269kB)\n",
      "\u001b[K     |████████████████████████████████| 276kB 22.2MB/s \n",
      "\u001b[?25hRequirement already satisfied: scipy>=1.4.1 in /usr/local/lib/python3.6/dist-packages (from -r requirements.txt (line 10)) (1.4.1)\n",
      "Requirement already satisfied: tensorboard>=2.2 in /usr/local/lib/python3.6/dist-packages (from -r requirements.txt (line 11)) (2.4.0)\n",
      "Requirement already satisfied: torch>=1.7.0 in /usr/local/lib/python3.6/dist-packages (from -r requirements.txt (line 12)) (1.7.0+cu101)\n",
      "Requirement already satisfied: torchvision>=0.8.1 in /usr/local/lib/python3.6/dist-packages (from -r requirements.txt (line 13)) (0.8.1+cu101)\n",
      "Requirement already satisfied: tqdm>=4.41.0 in /usr/local/lib/python3.6/dist-packages (from -r requirements.txt (line 14)) (4.41.1)\n",
      "Requirement already satisfied: seaborn>=0.11.0 in /usr/local/lib/python3.6/dist-packages (from -r requirements.txt (line 20)) (0.11.0)\n",
      "Requirement already satisfied: pandas in /usr/local/lib/python3.6/dist-packages (from -r requirements.txt (line 21)) (1.1.5)\n",
      "Collecting thop\n",
      "  Downloading https://files.pythonhosted.org/packages/6c/8b/22ce44e1c71558161a8bd54471123cc796589c7ebbfc15a7e8932e522f83/thop-0.0.31.post2005241907-py3-none-any.whl\n",
      "Requirement already satisfied: pycocotools>=2.0 in /usr/local/lib/python3.6/dist-packages (from -r requirements.txt (line 30)) (2.0.2)\n",
      "Requirement already satisfied: cycler>=0.10 in /usr/local/lib/python3.6/dist-packages (from matplotlib>=3.2.2->-r requirements.txt (line 5)) (0.10.0)\n",
      "Requirement already satisfied: python-dateutil>=2.1 in /usr/local/lib/python3.6/dist-packages (from matplotlib>=3.2.2->-r requirements.txt (line 5)) (2.8.1)\n",
      "Requirement already satisfied: pyparsing!=2.0.4,!=2.1.2,!=2.1.6,>=2.0.1 in /usr/local/lib/python3.6/dist-packages (from matplotlib>=3.2.2->-r requirements.txt (line 5)) (2.4.7)\n",
      "Requirement already satisfied: kiwisolver>=1.0.1 in /usr/local/lib/python3.6/dist-packages (from matplotlib>=3.2.2->-r requirements.txt (line 5)) (1.3.1)\n",
      "Requirement already satisfied: grpcio>=1.24.3 in /usr/local/lib/python3.6/dist-packages (from tensorboard>=2.2->-r requirements.txt (line 11)) (1.32.0)\n",
      "Requirement already satisfied: protobuf>=3.6.0 in /usr/local/lib/python3.6/dist-packages (from tensorboard>=2.2->-r requirements.txt (line 11)) (3.12.4)\n",
      "Requirement already satisfied: werkzeug>=0.11.15 in /usr/local/lib/python3.6/dist-packages (from tensorboard>=2.2->-r requirements.txt (line 11)) (1.0.1)\n",
      "Requirement already satisfied: six>=1.10.0 in /usr/local/lib/python3.6/dist-packages (from tensorboard>=2.2->-r requirements.txt (line 11)) (1.15.0)\n",
      "Requirement already satisfied: wheel>=0.26; python_version >= \"3\" in /usr/local/lib/python3.6/dist-packages (from tensorboard>=2.2->-r requirements.txt (line 11)) (0.36.2)\n",
      "Requirement already satisfied: absl-py>=0.4 in /usr/local/lib/python3.6/dist-packages (from tensorboard>=2.2->-r requirements.txt (line 11)) (0.10.0)\n",
      "Requirement already satisfied: google-auth<2,>=1.6.3 in /usr/local/lib/python3.6/dist-packages (from tensorboard>=2.2->-r requirements.txt (line 11)) (1.17.2)\n",
      "Requirement already satisfied: requests<3,>=2.21.0 in /usr/local/lib/python3.6/dist-packages (from tensorboard>=2.2->-r requirements.txt (line 11)) (2.23.0)\n",
      "Requirement already satisfied: setuptools>=41.0.0 in /usr/local/lib/python3.6/dist-packages (from tensorboard>=2.2->-r requirements.txt (line 11)) (51.0.0)\n",
      "Requirement already satisfied: tensorboard-plugin-wit>=1.6.0 in /usr/local/lib/python3.6/dist-packages (from tensorboard>=2.2->-r requirements.txt (line 11)) (1.7.0)\n",
      "Requirement already satisfied: google-auth-oauthlib<0.5,>=0.4.1 in /usr/local/lib/python3.6/dist-packages (from tensorboard>=2.2->-r requirements.txt (line 11)) (0.4.2)\n",
      "Requirement already satisfied: markdown>=2.6.8 in /usr/local/lib/python3.6/dist-packages (from tensorboard>=2.2->-r requirements.txt (line 11)) (3.3.3)\n",
      "Requirement already satisfied: future in /usr/local/lib/python3.6/dist-packages (from torch>=1.7.0->-r requirements.txt (line 12)) (0.16.0)\n",
      "Requirement already satisfied: dataclasses in /usr/local/lib/python3.6/dist-packages (from torch>=1.7.0->-r requirements.txt (line 12)) (0.8)\n",
      "Requirement already satisfied: typing-extensions in /usr/local/lib/python3.6/dist-packages (from torch>=1.7.0->-r requirements.txt (line 12)) (3.7.4.3)\n",
      "Requirement already satisfied: pytz>=2017.2 in /usr/local/lib/python3.6/dist-packages (from pandas->-r requirements.txt (line 21)) (2018.9)\n",
      "Requirement already satisfied: cachetools<5.0,>=2.0.0 in /usr/local/lib/python3.6/dist-packages (from google-auth<2,>=1.6.3->tensorboard>=2.2->-r requirements.txt (line 11)) (4.2.0)\n",
      "Requirement already satisfied: rsa<5,>=3.1.4; python_version >= \"3\" in /usr/local/lib/python3.6/dist-packages (from google-auth<2,>=1.6.3->tensorboard>=2.2->-r requirements.txt (line 11)) (4.6)\n",
      "Requirement already satisfied: pyasn1-modules>=0.2.1 in /usr/local/lib/python3.6/dist-packages (from google-auth<2,>=1.6.3->tensorboard>=2.2->-r requirements.txt (line 11)) (0.2.8)\n",
      "Requirement already satisfied: chardet<4,>=3.0.2 in /usr/local/lib/python3.6/dist-packages (from requests<3,>=2.21.0->tensorboard>=2.2->-r requirements.txt (line 11)) (3.0.4)\n",
      "Requirement already satisfied: certifi>=2017.4.17 in /usr/local/lib/python3.6/dist-packages (from requests<3,>=2.21.0->tensorboard>=2.2->-r requirements.txt (line 11)) (2020.12.5)\n",
      "Requirement already satisfied: idna<3,>=2.5 in /usr/local/lib/python3.6/dist-packages (from requests<3,>=2.21.0->tensorboard>=2.2->-r requirements.txt (line 11)) (2.10)\n",
      "Requirement already satisfied: urllib3!=1.25.0,!=1.25.1,<1.26,>=1.21.1 in /usr/local/lib/python3.6/dist-packages (from requests<3,>=2.21.0->tensorboard>=2.2->-r requirements.txt (line 11)) (1.24.3)\n",
      "Requirement already satisfied: requests-oauthlib>=0.7.0 in /usr/local/lib/python3.6/dist-packages (from google-auth-oauthlib<0.5,>=0.4.1->tensorboard>=2.2->-r requirements.txt (line 11)) (1.3.0)\n",
      "Requirement already satisfied: importlib-metadata; python_version < \"3.8\" in /usr/local/lib/python3.6/dist-packages (from markdown>=2.6.8->tensorboard>=2.2->-r requirements.txt (line 11)) (3.3.0)\n",
      "Requirement already satisfied: pyasn1>=0.1.3 in /usr/local/lib/python3.6/dist-packages (from rsa<5,>=3.1.4; python_version >= \"3\"->google-auth<2,>=1.6.3->tensorboard>=2.2->-r requirements.txt (line 11)) (0.4.8)\n",
      "Requirement already satisfied: oauthlib>=3.0.0 in /usr/local/lib/python3.6/dist-packages (from requests-oauthlib>=0.7.0->google-auth-oauthlib<0.5,>=0.4.1->tensorboard>=2.2->-r requirements.txt (line 11)) (3.1.0)\n",
      "Requirement already satisfied: zipp>=0.5 in /usr/local/lib/python3.6/dist-packages (from importlib-metadata; python_version < \"3.8\"->markdown>=2.6.8->tensorboard>=2.2->-r requirements.txt (line 11)) (3.4.0)\n",
      "Building wheels for collected packages: PyYAML\n",
      "  Building wheel for PyYAML (setup.py) ... \u001b[?25l\u001b[?25hdone\n",
      "  Created wheel for PyYAML: filename=PyYAML-5.3.1-cp36-cp36m-linux_x86_64.whl size=44621 sha256=d88e5324835ae0ceb213b7c87c869383502e627081e87b896b03fc9689b38386\n",
      "  Stored in directory: /root/.cache/pip/wheels/a7/c1/ea/cf5bd31012e735dc1dfea3131a2d5eae7978b251083d6247bd\n",
      "Successfully built PyYAML\n",
      "Installing collected packages: PyYAML, thop\n",
      "  Found existing installation: PyYAML 3.13\n",
      "    Uninstalling PyYAML-3.13:\n",
      "      Successfully uninstalled PyYAML-3.13\n",
      "Successfully installed PyYAML-5.3.1 thop-0.0.31.post2005241907\n"
     ]
    }
   ],
   "source": [
    "!git clone https://github.com/ultralytics/yolov5  # clone repo\r\n",
    "%cd yolov5\r\n",
    "!pip install -r requirements.txt"
   ]
  },
  {
   "cell_type": "code",
   "execution_count": null,
   "metadata": {
    "colab": {
     "base_uri": "https://localhost:8080/"
    },
    "id": "Vqu9UCFyC42Q",
    "outputId": "6ebc2b29-1f36-4dd9-800b-9408986b9f01"
   },
   "outputs": [
    {
     "name": "stdout",
     "output_type": "stream",
     "text": [
      "Setup complete. Using torch 1.7.0+cu101 _CudaDeviceProperties(name='Tesla T4', major=7, minor=5, total_memory=15079MB, multi_processor_count=40)\n"
     ]
    }
   ],
   "source": [
    "import torch\r\n",
    "from IPython.display import Image, clear_output  # to display images\r\n",
    "\r\n",
    "clear_output()\r\n",
    "print('Setup complete. Using torch %s %s' % (torch.__version__, torch.cuda.get_device_properties(0) if torch.cuda.is_available() else 'CPU'))"
   ]
  },
  {
   "cell_type": "code",
   "execution_count": null,
   "metadata": {
    "id": "Wk-yP5HXDQwp"
   },
   "outputs": [],
   "source": [
    "!cp /content/yolov5/data/coco128.yaml ../"
   ]
  },
  {
   "cell_type": "code",
   "execution_count": null,
   "metadata": {
    "colab": {
     "base_uri": "https://localhost:8080/"
    },
    "id": "iun1r1rFRgc4",
    "outputId": "7cc1f269-be26-4420-c692-1df2e6fc021b"
   },
   "outputs": [
    {
     "name": "stdout",
     "output_type": "stream",
     "text": [
      "Using torch 1.7.0+cu101 CUDA:0 (Tesla T4, 15079.75MB)\n",
      "\n",
      "Namespace(adam=False, batch_size=4, bucket='', cache_images=True, cfg='./models/yolov5s.yaml', data='/content/fruits.yaml', device='', epochs=50, evolve=False, exist_ok=False, global_rank=-1, hyp='data/hyp.scratch.yaml', image_weights=False, img_size=[640, 640], local_rank=-1, log_artifacts=False, log_imgs=16, multi_scale=False, name='fruits_yolo', noautoanchor=False, nosave=False, notest=False, project='runs/train', rect=False, resume=False, save_dir='runs/train/fruits_yolo', single_cls=False, sync_bn=False, total_batch_size=4, weights='yolov5s.pt', workers=8, world_size=1)\n",
      "Start Tensorboard with \"tensorboard --logdir runs/train\", view at http://localhost:6006/\n",
      "2020-12-30 06:13:42.253580: I tensorflow/stream_executor/platform/default/dso_loader.cc:49] Successfully opened dynamic library libcudart.so.10.1\n",
      "Hyperparameters {'lr0': 0.01, 'lrf': 0.2, 'momentum': 0.937, 'weight_decay': 0.0005, 'warmup_epochs': 3.0, 'warmup_momentum': 0.8, 'warmup_bias_lr': 0.1, 'box': 0.05, 'cls': 0.5, 'cls_pw': 1.0, 'obj': 1.0, 'obj_pw': 1.0, 'iou_t': 0.2, 'anchor_t': 4.0, 'fl_gamma': 0.0, 'hsv_h': 0.015, 'hsv_s': 0.7, 'hsv_v': 0.4, 'degrees': 0.0, 'translate': 0.1, 'scale': 0.5, 'shear': 0.0, 'perspective': 0.0, 'flipud': 0.0, 'fliplr': 0.5, 'mosaic': 1.0, 'mixup': 0.0}\n",
      "Overriding model.yaml nc=2 with nc=3\n",
      "\n",
      "                 from  n    params  module                                  arguments                     \n",
      "  0                -1  1      3520  models.common.Focus                     [3, 32, 3]                    \n",
      "  1                -1  1     18560  models.common.Conv                      [32, 64, 3, 2]                \n",
      "  2                -1  1     19904  models.common.BottleneckCSP             [64, 64, 1]                   \n",
      "  3                -1  1     73984  models.common.Conv                      [64, 128, 3, 2]               \n",
      "  4                -1  1    161152  models.common.BottleneckCSP             [128, 128, 3]                 \n",
      "  5                -1  1    295424  models.common.Conv                      [128, 256, 3, 2]              \n",
      "  6                -1  1    641792  models.common.BottleneckCSP             [256, 256, 3]                 \n",
      "  7                -1  1   1180672  models.common.Conv                      [256, 512, 3, 2]              \n",
      "  8                -1  1    656896  models.common.SPP                       [512, 512, [5, 9, 13]]        \n",
      "  9                -1  1   1248768  models.common.BottleneckCSP             [512, 512, 1, False]          \n",
      " 10                -1  1    131584  models.common.Conv                      [512, 256, 1, 1]              \n",
      " 11                -1  1         0  torch.nn.modules.upsampling.Upsample    [None, 2, 'nearest']          \n",
      " 12           [-1, 6]  1         0  models.common.Concat                    [1]                           \n",
      " 13                -1  1    378624  models.common.BottleneckCSP             [512, 256, 1, False]          \n",
      " 14                -1  1     33024  models.common.Conv                      [256, 128, 1, 1]              \n",
      " 15                -1  1         0  torch.nn.modules.upsampling.Upsample    [None, 2, 'nearest']          \n",
      " 16           [-1, 4]  1         0  models.common.Concat                    [1]                           \n",
      " 17                -1  1     95104  models.common.BottleneckCSP             [256, 128, 1, False]          \n",
      " 18                -1  1    147712  models.common.Conv                      [128, 128, 3, 2]              \n",
      " 19          [-1, 14]  1         0  models.common.Concat                    [1]                           \n",
      " 20                -1  1    313088  models.common.BottleneckCSP             [256, 256, 1, False]          \n",
      " 21                -1  1    590336  models.common.Conv                      [256, 256, 3, 2]              \n",
      " 22          [-1, 10]  1         0  models.common.Concat                    [1]                           \n",
      " 23                -1  1   1248768  models.common.BottleneckCSP             [512, 512, 1, False]          \n",
      " 24      [17, 20, 23]  1     21576  models.yolo.Detect                      [3, [[10, 13, 16, 30, 33, 23], [30, 61, 62, 45, 59, 119], [116, 90, 156, 198, 373, 326]], [128, 256, 512]]\n",
      "Model Summary: 283 layers, 7260488 parameters, 7260488 gradients, 16.8 GFLOPS\n",
      "\n",
      "Transferred 362/370 items from yolov5s.pt\n",
      "Optimizer groups: 62 .bias, 70 conv.weight, 59 other\n",
      "Scanning '../yolov5_format/labels/train.cache' for images and labels... 206 found, 0 missing, 0 empty, 0 corrupted: 100% 206/206 [00:00<00:00, 2360728.48it/s]\n",
      "Caching images (0.2GB): 100% 206/206 [00:01<00:00, 111.16it/s]\n",
      "Scanning '../yolov5_format/labels/test.cache' for images and labels... 56 found, 0 missing, 0 empty, 0 corrupted: 100% 56/56 [00:00<00:00, 320875.72it/s]\n",
      "Caching images (0.1GB): 100% 56/56 [00:00<00:00, 67.23it/s]\n",
      "Plotting labels... \n",
      "NumExpr defaulting to 2 threads.\n",
      "\n",
      "Analyzing anchors... anchors/target = 3.37, Best Possible Recall (BPR) = 1.0000\n",
      "Image sizes 640 train, 640 test\n",
      "Using 2 dataloader workers\n",
      "Logging results to runs/train/fruits_yolo\n",
      "Starting training for 50 epochs...\n",
      "\n",
      "     Epoch   gpu_mem       box       obj       cls     total   targets  img_size\n",
      "      0/49    0.816G   0.08595   0.04572   0.03345    0.1651        10       640: 100% 52/52 [00:10<00:00,  5.10it/s]\n",
      "               Class      Images     Targets           P           R      mAP@.5  mAP@.5:.95: 100% 14/14 [00:07<00:00,  1.79it/s]\n",
      "                 all          56         110           0           0      0.0033     0.00129\n",
      "\n",
      "     Epoch   gpu_mem       box       obj       cls     total   targets  img_size\n",
      "      1/49    0.887G   0.07108   0.04184    0.0326    0.1455         9       640: 100% 52/52 [00:05<00:00,  8.89it/s]\n",
      "               Class      Images     Targets           P           R      mAP@.5  mAP@.5:.95: 100% 14/14 [00:01<00:00, 12.72it/s]\n",
      "                 all          56         110           0           0      0.0304     0.00641\n",
      "\n",
      "     Epoch   gpu_mem       box       obj       cls     total   targets  img_size\n",
      "      2/49    0.887G   0.06168    0.0446   0.03067     0.137         9       640: 100% 52/52 [00:05<00:00,  9.05it/s]\n",
      "               Class      Images     Targets           P           R      mAP@.5  mAP@.5:.95: 100% 14/14 [00:00<00:00, 15.20it/s]\n",
      "                 all          56         110       0.333     0.00813       0.132      0.0336\n",
      "\n",
      "     Epoch   gpu_mem       box       obj       cls     total   targets  img_size\n",
      "      3/49    0.889G    0.0565   0.04287   0.02977    0.1291         7       640: 100% 52/52 [00:05<00:00,  9.24it/s]\n",
      "               Class      Images     Targets           P           R      mAP@.5  mAP@.5:.95: 100% 14/14 [00:00<00:00, 18.70it/s]\n",
      "                 all          56         110       0.234        0.33       0.234      0.0925\n",
      "\n",
      "     Epoch   gpu_mem       box       obj       cls     total   targets  img_size\n",
      "      4/49    0.889G   0.04972   0.03726   0.02765    0.1146        12       640: 100% 52/52 [00:05<00:00,  8.80it/s]\n",
      "               Class      Images     Targets           P           R      mAP@.5  mAP@.5:.95: 100% 14/14 [00:00<00:00, 17.46it/s]\n",
      "                 all          56         110       0.142       0.643       0.343       0.145\n",
      "\n",
      "     Epoch   gpu_mem       box       obj       cls     total   targets  img_size\n",
      "      5/49    0.889G   0.04415   0.03524   0.02576    0.1051        11       640: 100% 52/52 [00:05<00:00,  9.42it/s]\n",
      "               Class      Images     Targets           P           R      mAP@.5  mAP@.5:.95: 100% 14/14 [00:00<00:00, 22.44it/s]\n",
      "                 all          56         110       0.174       0.778       0.381       0.156\n",
      "\n",
      "     Epoch   gpu_mem       box       obj       cls     total   targets  img_size\n",
      "      6/49    0.889G   0.04463    0.0347   0.02521    0.1045         5       640: 100% 52/52 [00:05<00:00,  9.50it/s]\n",
      "               Class      Images     Targets           P           R      mAP@.5  mAP@.5:.95: 100% 14/14 [00:00<00:00, 18.30it/s]\n",
      "                 all          56         110       0.176       0.741       0.393       0.196\n",
      "\n",
      "     Epoch   gpu_mem       box       obj       cls     total   targets  img_size\n",
      "      7/49    0.889G   0.04569   0.03372    0.0224    0.1018         7       640: 100% 52/52 [00:05<00:00,  9.27it/s]\n",
      "               Class      Images     Targets           P           R      mAP@.5  mAP@.5:.95: 100% 14/14 [00:00<00:00, 19.08it/s]\n",
      "                 all          56         110       0.188       0.782       0.407       0.179\n",
      "\n",
      "     Epoch   gpu_mem       box       obj       cls     total   targets  img_size\n",
      "      8/49    0.889G    0.0501   0.02996   0.02085    0.1009        10       640: 100% 52/52 [00:05<00:00,  9.77it/s]\n",
      "               Class      Images     Targets           P           R      mAP@.5  mAP@.5:.95: 100% 14/14 [00:00<00:00, 22.81it/s]\n",
      "                 all          56         110        0.28       0.709       0.458       0.204\n",
      "\n",
      "     Epoch   gpu_mem       box       obj       cls     total   targets  img_size\n",
      "      9/49    0.889G   0.04574   0.03129   0.01748   0.09451         9       640: 100% 52/52 [00:05<00:00,  9.64it/s]\n",
      "               Class      Images     Targets           P           R      mAP@.5  mAP@.5:.95: 100% 14/14 [00:00<00:00, 22.63it/s]\n",
      "                 all          56         110       0.202       0.776         0.5       0.247\n",
      "\n",
      "     Epoch   gpu_mem       box       obj       cls     total   targets  img_size\n",
      "     10/49    0.889G   0.04607   0.02976   0.01639   0.09222        12       640: 100% 52/52 [00:05<00:00,  9.01it/s]\n",
      "               Class      Images     Targets           P           R      mAP@.5  mAP@.5:.95: 100% 14/14 [00:00<00:00, 22.84it/s]\n",
      "                 all          56         110       0.188       0.872       0.441       0.161\n",
      "\n",
      "     Epoch   gpu_mem       box       obj       cls     total   targets  img_size\n",
      "     11/49    0.889G   0.04707   0.03007   0.01332   0.09046        12       640: 100% 52/52 [00:05<00:00,  9.82it/s]\n",
      "               Class      Images     Targets           P           R      mAP@.5  mAP@.5:.95: 100% 14/14 [00:00<00:00, 21.44it/s]\n",
      "                 all          56         110       0.183       0.881       0.526        0.24\n",
      "\n",
      "     Epoch   gpu_mem       box       obj       cls     total   targets  img_size\n",
      "     12/49    0.889G   0.04185   0.02772   0.01163   0.08119         3       640: 100% 52/52 [00:05<00:00,  9.81it/s]\n",
      "               Class      Images     Targets           P           R      mAP@.5  mAP@.5:.95: 100% 14/14 [00:00<00:00, 20.50it/s]\n",
      "                 all          56         110       0.176       0.871         0.5       0.218\n",
      "\n",
      "     Epoch   gpu_mem       box       obj       cls     total   targets  img_size\n",
      "     13/49    0.889G   0.04876   0.02581   0.01093    0.0855         8       640: 100% 52/52 [00:05<00:00,  9.60it/s]\n",
      "               Class      Images     Targets           P           R      mAP@.5  mAP@.5:.95: 100% 14/14 [00:00<00:00, 22.45it/s]\n",
      "                 all          56         110       0.281       0.767       0.384       0.146\n",
      "\n",
      "     Epoch   gpu_mem       box       obj       cls     total   targets  img_size\n",
      "     14/49    0.889G   0.04315   0.02609   0.01032   0.07956         8       640: 100% 52/52 [00:05<00:00,  9.73it/s]\n",
      "               Class      Images     Targets           P           R      mAP@.5  mAP@.5:.95: 100% 14/14 [00:00<00:00, 22.25it/s]\n",
      "                 all          56         110       0.251       0.882       0.582       0.266\n",
      "\n",
      "     Epoch   gpu_mem       box       obj       cls     total   targets  img_size\n",
      "     15/49    0.889G   0.04431   0.02624    0.0114   0.08195         8       640: 100% 52/52 [00:05<00:00,  9.41it/s]\n",
      "               Class      Images     Targets           P           R      mAP@.5  mAP@.5:.95: 100% 14/14 [00:00<00:00, 21.88it/s]\n",
      "                 all          56         110       0.375       0.774        0.64       0.334\n",
      "\n",
      "     Epoch   gpu_mem       box       obj       cls     total   targets  img_size\n",
      "     16/49    0.889G    0.0427   0.02684   0.01072   0.08027         8       640: 100% 52/52 [00:05<00:00,  9.53it/s]\n",
      "               Class      Images     Targets           P           R      mAP@.5  mAP@.5:.95: 100% 14/14 [00:00<00:00, 22.75it/s]\n",
      "                 all          56         110       0.276        0.84       0.602       0.313\n",
      "\n",
      "     Epoch   gpu_mem       box       obj       cls     total   targets  img_size\n",
      "     17/49    0.889G   0.04156   0.02664  0.009602   0.07781        14       640: 100% 52/52 [00:05<00:00,  9.63it/s]\n",
      "               Class      Images     Targets           P           R      mAP@.5  mAP@.5:.95: 100% 14/14 [00:00<00:00, 22.92it/s]\n",
      "                 all          56         110       0.246       0.882       0.583        0.28\n",
      "\n",
      "     Epoch   gpu_mem       box       obj       cls     total   targets  img_size\n",
      "     18/49    0.889G   0.04306   0.02622   0.01012    0.0794        14       640: 100% 52/52 [00:05<00:00,  9.83it/s]\n",
      "               Class      Images     Targets           P           R      mAP@.5  mAP@.5:.95: 100% 14/14 [00:00<00:00, 22.28it/s]\n",
      "                 all          56         110       0.337       0.896       0.747       0.373\n",
      "\n",
      "     Epoch   gpu_mem       box       obj       cls     total   targets  img_size\n",
      "     19/49    0.889G   0.04085   0.02676   0.01124   0.07885         9       640: 100% 52/52 [00:05<00:00,  9.83it/s]\n",
      "               Class      Images     Targets           P           R      mAP@.5  mAP@.5:.95: 100% 14/14 [00:00<00:00, 21.08it/s]\n",
      "                 all          56         110        0.46       0.785       0.606       0.293\n",
      "\n",
      "     Epoch   gpu_mem       box       obj       cls     total   targets  img_size\n",
      "     20/49    0.889G   0.04182   0.02588  0.009533   0.07723         2       640: 100% 52/52 [00:05<00:00,  9.48it/s]\n",
      "               Class      Images     Targets           P           R      mAP@.5  mAP@.5:.95: 100% 14/14 [00:00<00:00, 22.28it/s]\n",
      "                 all          56         110       0.364       0.925       0.804       0.453\n",
      "\n",
      "     Epoch   gpu_mem       box       obj       cls     total   targets  img_size\n",
      "     21/49    0.889G   0.03934   0.02828  0.008667   0.07628         9       640: 100% 52/52 [00:05<00:00,  9.62it/s]\n",
      "               Class      Images     Targets           P           R      mAP@.5  mAP@.5:.95: 100% 14/14 [00:00<00:00, 22.53it/s]\n",
      "                 all          56         110       0.426       0.875        0.79       0.379\n",
      "\n",
      "     Epoch   gpu_mem       box       obj       cls     total   targets  img_size\n",
      "     22/49    0.889G   0.03558   0.02625  0.007918   0.06975         5       640: 100% 52/52 [00:05<00:00,  9.40it/s]\n",
      "               Class      Images     Targets           P           R      mAP@.5  mAP@.5:.95: 100% 14/14 [00:00<00:00, 23.02it/s]\n",
      "                 all          56         110       0.399       0.902       0.819       0.485\n",
      "\n",
      "     Epoch   gpu_mem       box       obj       cls     total   targets  img_size\n",
      "     23/49    0.889G   0.03475   0.02552  0.007691   0.06796         5       640: 100% 52/52 [00:05<00:00,  9.28it/s]\n",
      "               Class      Images     Targets           P           R      mAP@.5  mAP@.5:.95: 100% 14/14 [00:00<00:00, 22.67it/s]\n",
      "                 all          56         110        0.54        0.92       0.881       0.516\n",
      "\n",
      "     Epoch   gpu_mem       box       obj       cls     total   targets  img_size\n",
      "     24/49    0.889G   0.03486   0.02599  0.008381   0.06922        12       640: 100% 52/52 [00:05<00:00,  9.84it/s]\n",
      "               Class      Images     Targets           P           R      mAP@.5  mAP@.5:.95: 100% 14/14 [00:00<00:00, 21.62it/s]\n",
      "                 all          56         110       0.529       0.874       0.817       0.484\n",
      "\n",
      "     Epoch   gpu_mem       box       obj       cls     total   targets  img_size\n",
      "     25/49    0.889G   0.03228   0.02579  0.006849   0.06491         7       640: 100% 52/52 [00:05<00:00,  9.89it/s]\n",
      "               Class      Images     Targets           P           R      mAP@.5  mAP@.5:.95: 100% 14/14 [00:00<00:00, 21.39it/s]\n",
      "                 all          56         110       0.565       0.916       0.838       0.506\n",
      "\n",
      "     Epoch   gpu_mem       box       obj       cls     total   targets  img_size\n",
      "     26/49    0.889G   0.03387   0.02651  0.006841   0.06721        12       640: 100% 52/52 [00:05<00:00,  9.16it/s]\n",
      "               Class      Images     Targets           P           R      mAP@.5  mAP@.5:.95: 100% 14/14 [00:00<00:00, 22.64it/s]\n",
      "                 all          56         110       0.439         0.9       0.809       0.477\n",
      "\n",
      "     Epoch   gpu_mem       box       obj       cls     total   targets  img_size\n",
      "     27/49    0.889G   0.03441   0.02765  0.007496   0.06956         6       640: 100% 52/52 [00:05<00:00,  9.31it/s]\n",
      "               Class      Images     Targets           P           R      mAP@.5  mAP@.5:.95: 100% 14/14 [00:00<00:00, 22.06it/s]\n",
      "                 all          56         110       0.515       0.909       0.839       0.537\n",
      "\n",
      "     Epoch   gpu_mem       box       obj       cls     total   targets  img_size\n",
      "     28/49    0.889G   0.03451   0.02636   0.00774   0.06861         6       640: 100% 52/52 [00:05<00:00,  9.28it/s]\n",
      "               Class      Images     Targets           P           R      mAP@.5  mAP@.5:.95: 100% 14/14 [00:00<00:00, 22.52it/s]\n",
      "                 all          56         110       0.498       0.925       0.815        0.53\n",
      "\n",
      "     Epoch   gpu_mem       box       obj       cls     total   targets  img_size\n",
      "     29/49    0.889G   0.03226   0.02563  0.006035   0.06393         9       640: 100% 52/52 [00:05<00:00,  9.22it/s]\n",
      "               Class      Images     Targets           P           R      mAP@.5  mAP@.5:.95: 100% 14/14 [00:00<00:00, 21.92it/s]\n",
      "                 all          56         110       0.567       0.898       0.855        0.55\n",
      "\n",
      "     Epoch   gpu_mem       box       obj       cls     total   targets  img_size\n",
      "     30/49    0.889G   0.03143   0.02582  0.006073   0.06332        16       640: 100% 52/52 [00:05<00:00,  9.78it/s]\n",
      "               Class      Images     Targets           P           R      mAP@.5  mAP@.5:.95: 100% 14/14 [00:00<00:00, 20.85it/s]\n",
      "                 all          56         110       0.567       0.917       0.848        0.53\n",
      "\n",
      "     Epoch   gpu_mem       box       obj       cls     total   targets  img_size\n",
      "     31/49    0.889G   0.03188   0.02664  0.006926   0.06545        12       640: 100% 52/52 [00:05<00:00,  9.00it/s]\n",
      "               Class      Images     Targets           P           R      mAP@.5  mAP@.5:.95: 100% 14/14 [00:00<00:00, 22.47it/s]\n",
      "                 all          56         110       0.588       0.917       0.863        0.57\n",
      "\n",
      "     Epoch   gpu_mem       box       obj       cls     total   targets  img_size\n",
      "     32/49    0.889G   0.03042   0.02474  0.006937   0.06209        11       640: 100% 52/52 [00:05<00:00,  9.20it/s]\n",
      "               Class      Images     Targets           P           R      mAP@.5  mAP@.5:.95: 100% 14/14 [00:00<00:00, 22.42it/s]\n",
      "                 all          56         110       0.576       0.935       0.891       0.584\n",
      "\n",
      "     Epoch   gpu_mem       box       obj       cls     total   targets  img_size\n",
      "     33/49    0.889G   0.02795   0.02515  0.005195    0.0583        10       640: 100% 52/52 [00:05<00:00,  9.57it/s]\n",
      "               Class      Images     Targets           P           R      mAP@.5  mAP@.5:.95: 100% 14/14 [00:00<00:00, 22.05it/s]\n",
      "                 all          56         110       0.569       0.925       0.888       0.574\n",
      "\n",
      "     Epoch   gpu_mem       box       obj       cls     total   targets  img_size\n",
      "     34/49    0.889G   0.02421   0.02412  0.005444   0.05377        15       640: 100% 52/52 [00:05<00:00,  9.65it/s]\n",
      "               Class      Images     Targets           P           R      mAP@.5  mAP@.5:.95: 100% 14/14 [00:00<00:00, 20.89it/s]\n",
      "                 all          56         110       0.579       0.943       0.911       0.616\n",
      "\n",
      "     Epoch   gpu_mem       box       obj       cls     total   targets  img_size\n",
      "     35/49    0.889G    0.0264   0.02347  0.005022    0.0549         7       640: 100% 52/52 [00:05<00:00,  9.63it/s]\n",
      "               Class      Images     Targets           P           R      mAP@.5  mAP@.5:.95: 100% 14/14 [00:00<00:00, 21.71it/s]\n",
      "                 all          56         110       0.572       0.917       0.913       0.599\n",
      "\n",
      "     Epoch   gpu_mem       box       obj       cls     total   targets  img_size\n",
      "     36/49    0.889G   0.02858   0.02335  0.005636   0.05757         4       640: 100% 52/52 [00:05<00:00,  9.62it/s]\n",
      "               Class      Images     Targets           P           R      mAP@.5  mAP@.5:.95: 100% 14/14 [00:00<00:00, 22.42it/s]\n",
      "                 all          56         110       0.623       0.936       0.909       0.623\n",
      "\n",
      "     Epoch   gpu_mem       box       obj       cls     total   targets  img_size\n",
      "     37/49    0.889G   0.02653   0.02428  0.005607   0.05641         9       640: 100% 52/52 [00:05<00:00,  8.99it/s]\n",
      "               Class      Images     Targets           P           R      mAP@.5  mAP@.5:.95: 100% 14/14 [00:00<00:00, 22.05it/s]\n",
      "                 all          56         110       0.596       0.916       0.874       0.603\n",
      "\n",
      "     Epoch   gpu_mem       box       obj       cls     total   targets  img_size\n",
      "     38/49    0.889G   0.02689   0.02499  0.003908   0.05579         4       640: 100% 52/52 [00:05<00:00,  9.46it/s]\n",
      "               Class      Images     Targets           P           R      mAP@.5  mAP@.5:.95: 100% 14/14 [00:00<00:00, 22.00it/s]\n",
      "                 all          56         110       0.582       0.914       0.867       0.602\n",
      "\n",
      "     Epoch   gpu_mem       box       obj       cls     total   targets  img_size\n",
      "     39/49    0.889G   0.02469   0.02247    0.0044   0.05157         8       640: 100% 52/52 [00:05<00:00,  9.45it/s]\n",
      "               Class      Images     Targets           P           R      mAP@.5  mAP@.5:.95: 100% 14/14 [00:00<00:00, 20.80it/s]\n",
      "                 all          56         110       0.618       0.934       0.892       0.613\n",
      "\n",
      "     Epoch   gpu_mem       box       obj       cls     total   targets  img_size\n",
      "     40/49    0.889G   0.02657   0.02222  0.004411    0.0532         8       640: 100% 52/52 [00:05<00:00,  9.18it/s]\n",
      "               Class      Images     Targets           P           R      mAP@.5  mAP@.5:.95: 100% 14/14 [00:00<00:00, 20.89it/s]\n",
      "                 all          56         110        0.64       0.943       0.906       0.611\n",
      "\n",
      "     Epoch   gpu_mem       box       obj       cls     total   targets  img_size\n",
      "     41/49    0.889G   0.02475   0.02334   0.00478   0.05287        13       640: 100% 52/52 [00:05<00:00,  9.28it/s]\n",
      "               Class      Images     Targets           P           R      mAP@.5  mAP@.5:.95: 100% 14/14 [00:00<00:00, 21.13it/s]\n",
      "                 all          56         110       0.632       0.934       0.914        0.63\n",
      "\n",
      "     Epoch   gpu_mem       box       obj       cls     total   targets  img_size\n",
      "     42/49    0.889G    0.0238   0.02462  0.004195   0.05262         7       640: 100% 52/52 [00:05<00:00,  9.35it/s]\n",
      "               Class      Images     Targets           P           R      mAP@.5  mAP@.5:.95: 100% 14/14 [00:00<00:00, 20.24it/s]\n",
      "                 all          56         110       0.581       0.945       0.897       0.624\n",
      "\n",
      "     Epoch   gpu_mem       box       obj       cls     total   targets  img_size\n",
      "     43/49    0.889G   0.02292   0.02222  0.003153   0.04829         4       640: 100% 52/52 [00:05<00:00,  9.41it/s]\n",
      "               Class      Images     Targets           P           R      mAP@.5  mAP@.5:.95: 100% 14/14 [00:00<00:00, 21.69it/s]\n",
      "                 all          56         110       0.572       0.945       0.895       0.611\n",
      "\n",
      "     Epoch   gpu_mem       box       obj       cls     total   targets  img_size\n",
      "     44/49    0.889G   0.02499   0.02254  0.004411   0.05195         7       640: 100% 52/52 [00:05<00:00,  9.23it/s]\n",
      "               Class      Images     Targets           P           R      mAP@.5  mAP@.5:.95: 100% 14/14 [00:00<00:00, 22.03it/s]\n",
      "                 all          56         110       0.574       0.938        0.91        0.63\n",
      "\n",
      "     Epoch   gpu_mem       box       obj       cls     total   targets  img_size\n",
      "     45/49    0.889G   0.02291   0.02154   0.00319   0.04765        10       640: 100% 52/52 [00:05<00:00,  9.55it/s]\n",
      "               Class      Images     Targets           P           R      mAP@.5  mAP@.5:.95: 100% 14/14 [00:00<00:00, 21.03it/s]\n",
      "                 all          56         110       0.552       0.935       0.898       0.642\n",
      "\n",
      "     Epoch   gpu_mem       box       obj       cls     total   targets  img_size\n",
      "     46/49    0.889G   0.02323   0.02232  0.003913   0.04947         9       640: 100% 52/52 [00:05<00:00,  9.40it/s]\n",
      "               Class      Images     Targets           P           R      mAP@.5  mAP@.5:.95: 100% 14/14 [00:00<00:00, 21.18it/s]\n",
      "                 all          56         110       0.586       0.949       0.893       0.628\n",
      "\n",
      "     Epoch   gpu_mem       box       obj       cls     total   targets  img_size\n",
      "     47/49    0.889G    0.0212   0.02206  0.004091   0.04735         9       640: 100% 52/52 [00:05<00:00,  9.31it/s]\n",
      "               Class      Images     Targets           P           R      mAP@.5  mAP@.5:.95: 100% 14/14 [00:00<00:00, 21.06it/s]\n",
      "                 all          56         110       0.645       0.936       0.896       0.619\n",
      "\n",
      "     Epoch   gpu_mem       box       obj       cls     total   targets  img_size\n",
      "     48/49    0.889G   0.02435   0.02218  0.004067   0.05059         4       640: 100% 52/52 [00:05<00:00,  9.15it/s]\n",
      "               Class      Images     Targets           P           R      mAP@.5  mAP@.5:.95: 100% 14/14 [00:00<00:00, 22.41it/s]\n",
      "                 all          56         110       0.691       0.946       0.914       0.621\n",
      "\n",
      "     Epoch   gpu_mem       box       obj       cls     total   targets  img_size\n",
      "     49/49    0.889G   0.02157   0.02237  0.004519   0.04846         8       640: 100% 52/52 [00:05<00:00,  9.69it/s]\n",
      "               Class      Images     Targets           P           R      mAP@.5  mAP@.5:.95: 100% 14/14 [00:00<00:00, 14.76it/s]\n",
      "                 all          56         110        0.66       0.941       0.909       0.644\n",
      "Optimizer stripped from runs/train/fruits_yolo/weights/last.pt, 14.8MB\n",
      "Optimizer stripped from runs/train/fruits_yolo/weights/best.pt, 14.8MB\n",
      "50 epochs completed in 0.094 hours.\n",
      "\n"
     ]
    }
   ],
   "source": [
    "!python train.py --img 640 --batch 4 --epochs 50 \\\r\n",
    "  --data /content/fruits.yaml --cfg ./models/yolov5s.yaml --weights yolov5s.pt \\\r\n",
    "  --name fruits_yolo --cache"
   ]
  },
  {
   "cell_type": "code",
   "execution_count": null,
   "metadata": {
    "id": "nXJJnuoIRgRi"
   },
   "outputs": [],
   "source": []
  },
  {
   "cell_type": "code",
   "execution_count": null,
   "metadata": {
    "colab": {
     "base_uri": "https://localhost:8080/"
    },
    "id": "d53rzdsVKqOv",
    "outputId": "31943ae7-1b82-4dd6-effb-f876ab8e2898"
   },
   "outputs": [
    {
     "name": "stdout",
     "output_type": "stream",
     "text": [
      "Namespace(agnostic_nms=False, augment=False, classes=None, conf_thres=0.25, device='', exist_ok=False, img_size=640, iou_thres=0.45, name='exp', project='runs/detect', save_conf=False, save_txt=False, source='/content/yolov5_format/images/test/apple_80.jpg', update=False, view_img=False, weights=['yolov5s.pt'])\n",
      "Using torch 1.7.0+cu101 CUDA:0 (Tesla T4, 15079.75MB)\n",
      "\n",
      "Fusing layers... \n",
      "Model Summary: 232 layers, 7459581 parameters, 0 gradients, 17.5 GFLOPS\n",
      "image 1/1 /content/yolov5_format/images/test/apple_80.jpg: 544x640 1 apples, Done. (0.014s)\n",
      "Results saved to runs/detect/exp3\n",
      "Done. (0.041s)\n"
     ]
    }
   ],
   "source": [
    "!python detect.py --source /content/yolov5_format/images/test/apple_80.jpg  --weights yolov5s.pt --conf 0.25"
   ]
  },
  {
   "cell_type": "code",
   "execution_count": null,
   "metadata": {
    "colab": {
     "base_uri": "https://localhost:8080/",
     "height": 287
    },
    "id": "m8JZu4VxFIsW",
    "outputId": "84c27545-f079-4d6a-e71f-4e55e97b75a4"
   },
   "outputs": [
    {
     "data": {
      "text/plain": [
       "<matplotlib.image.AxesImage at 0x7f2600080390>"
      ]
     },
     "execution_count": 20,
     "metadata": {
      "tags": []
     },
     "output_type": "execute_result"
    },
    {
     "data": {
      "image/png": "[encoded data removed]",
      "text/plain": [
       "<Figure size 432x288 with 1 Axes>"
      ]
     },
     "metadata": {
      "needs_background": "light",
      "tags": []
     },
     "output_type": "display_data"
    }
   ],
   "source": [
    "import matplotlib.pyplot as plt\r\n",
    "import cv2\r\n",
    "img = cv2.imread(\"runs/detect/exp3/apple_80.jpg\")\r\n",
    "plt.imshow(img[:,:,::-1])"
   ]
  },
  {
   "cell_type": "code",
   "execution_count": null,
   "metadata": {
    "id": "NDWeHhPIL_s9"
   },
   "outputs": [],
   "source": []
  }
 ],
 "metadata": {
  "accelerator": "GPU",
  "colab": {
   "collapsed_sections": [],
   "name": "Friuts.ipynb",
   "provenance": []
  },
  "kernelspec": {
   "display_name": "Python 3",
   "language": "python",
   "name": "python3"
  },
  "language_info": {
   "codemirror_mode": {
    "name": "ipython",
    "version": 3
   },
   "file_extension": ".py",
   "mimetype": "text/x-python",
   "name": "python",
   "nbconvert_exporter": "python",
   "pygments_lexer": "ipython3",
   "version": "3.7.6"
  }
 },
 "nbformat": 4,
 "nbformat_minor": 4
}
